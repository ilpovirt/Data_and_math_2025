{
 "cells": [
  {
   "cell_type": "code",
   "execution_count": 16,
   "id": "e84ee7ef",
   "metadata": {},
   "outputs": [
    {
     "name": "stdout",
     "output_type": "stream",
     "text": [
      "Hello DPD25 students!\n"
     ]
    }
   ],
   "source": [
    "print('Hello DPD25 students!')"
   ]
  },
  {
   "cell_type": "markdown",
   "id": "31b3547b",
   "metadata": {},
   "source": [
    "This is a markdown cell\n",
    "Nothing happens here"
   ]
  },
  {
   "cell_type": "code",
   "execution_count": 17,
   "id": "2967c10f",
   "metadata": {},
   "outputs": [],
   "source": [
    "#Markdown cell and comment line work in the same way"
   ]
  },
  {
   "cell_type": "code",
   "execution_count": 18,
   "id": "4f55d47a",
   "metadata": {},
   "outputs": [],
   "source": [
    "#Few other things\n",
    "a = 5\n"
   ]
  },
  {
   "cell_type": "code",
   "execution_count": 19,
   "id": "a7c2b95f",
   "metadata": {},
   "outputs": [],
   "source": [
    "a = 7"
   ]
  },
  {
   "cell_type": "code",
   "execution_count": 20,
   "id": "95121e26",
   "metadata": {},
   "outputs": [
    {
     "name": "stdout",
     "output_type": "stream",
     "text": [
      "7\n"
     ]
    }
   ],
   "source": [
    "print(a) #Printout depends on the order of the cells"
   ]
  },
  {
   "cell_type": "markdown",
   "id": "735f6f40",
   "metadata": {},
   "source": [
    "Few things on Python fundamentals and data types"
   ]
  },
  {
   "cell_type": "code",
   "execution_count": 23,
   "id": "cc4593cb",
   "metadata": {},
   "outputs": [
    {
     "name": "stdout",
     "output_type": "stream",
     "text": [
      "3\n",
      "9\n",
      "3 + 6\n"
     ]
    }
   ],
   "source": [
    "print(3) #Prints the number 3\n",
    "\n",
    "print(3+6)#Prints the result of the addition 3+6\n",
    "\n",
    "print('3 + 6') #Prints the text '3 + 6'\n"
   ]
  },
  {
   "cell_type": "code",
   "execution_count": 27,
   "id": "7ba3302a",
   "metadata": {},
   "outputs": [
    {
     "data": {
      "text/plain": [
       "float"
      ]
     },
     "execution_count": 27,
     "metadata": {},
     "output_type": "execute_result"
    }
   ],
   "source": [
    "#Variables and data types\n",
    "\n",
    "#a = 'cat'\n",
    "#a = 4\n",
    "a = 5.6\n",
    "type(a)"
   ]
  },
  {
   "cell_type": "code",
   "execution_count": 29,
   "id": "8be72fc6",
   "metadata": {},
   "outputs": [
    {
     "name": "stdout",
     "output_type": "stream",
     "text": [
      "7\n",
      "52\n"
     ]
    }
   ],
   "source": [
    "#Example where variable type matters\n",
    "a = 5\n",
    "b = 2\n",
    "print(a+b) #Integers\n",
    "\n",
    "a = '5'\n",
    "b = '2'\n",
    "print(a+b) #Strings"
   ]
  }
 ],
 "metadata": {
  "kernelspec": {
   "display_name": "Python 3",
   "language": "python",
   "name": "python3"
  },
  "language_info": {
   "codemirror_mode": {
    "name": "ipython",
    "version": 3
   },
   "file_extension": ".py",
   "mimetype": "text/x-python",
   "name": "python",
   "nbconvert_exporter": "python",
   "pygments_lexer": "ipython3",
   "version": "3.12.3"
  }
 },
 "nbformat": 4,
 "nbformat_minor": 5
}
