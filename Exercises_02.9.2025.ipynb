{
 "cells": [
  {
   "cell_type": "markdown",
   "id": "31ea735b",
   "metadata": {},
   "source": [
    "7. Write a for loop which prints out the names from your friends list one by one "
   ]
  },
  {
   "cell_type": "code",
   "execution_count": null,
   "id": "ea668bf6",
   "metadata": {},
   "outputs": [
    {
     "name": "stdout",
     "output_type": "stream",
     "text": [
      "Matti\n",
      "Teppo\n",
      "Jussi\n",
      "Liisa\n",
      "Pekka\n",
      "Pirkko\n"
     ]
    }
   ],
   "source": [
    "friends =['Matti','Teppo','Jussi','Liisa','Pekka','Pirkko']\n",
    "\n",
    "#Go through all the elements in the list and print each of them\n",
    "#Method 1\n",
    "for friend_name in friends: #\"As long as the name is in the list, starting from the first element\"\n",
    "    print(friend_name)\n"
   ]
  },
  {
   "cell_type": "code",
   "execution_count": null,
   "id": "ba528f94",
   "metadata": {},
   "outputs": [
    {
     "name": "stdout",
     "output_type": "stream",
     "text": [
      "Matti\n",
      "0\n",
      "Teppo\n",
      "1\n",
      "Jussi\n",
      "2\n",
      "Liisa\n",
      "3\n",
      "Pekka\n",
      "4\n",
      "Pirkko\n",
      "5\n"
     ]
    }
   ],
   "source": [
    "#Method 2: using indices\n",
    "#Example for single element:\n",
    "#print(friends)\n",
    "#print(friends[3])\n",
    "\n",
    "#Write a for loop that goes through indices from zero to 5, corresponding to number of elements (names), and prints corresponding names\n",
    "#len(friends) = number of elements in the list friends\n",
    "\n",
    "for i in range(0,len(friends)): #index i goes from 0 to 5\n",
    "    print(friends[i])\n",
    "    print(i)"
   ]
  },
  {
   "cell_type": "markdown",
   "id": "f182c18f",
   "metadata": {},
   "source": [
    "8. Write a while loop which prints out the names from your friends list one by one "
   ]
  },
  {
   "cell_type": "code",
   "execution_count": null,
   "id": "e467c73f",
   "metadata": {},
   "outputs": [
    {
     "name": "stdout",
     "output_type": "stream",
     "text": [
      "Matti\n",
      "Teppo\n",
      "Jussi\n",
      "Liisa\n",
      "Pekka\n",
      "Pirkko\n"
     ]
    }
   ],
   "source": [
    "i = 0\n",
    "while i < len(friends): #len(friends) = 6, but the last index is 5, that's why i < len(friends) NOT i <= len(friends)\n",
    "    print(friends[i])\n",
    "    i = i + 1\n",
    "\n",
    "#I case of while loop the behaviour of index i doesn't have to be pre-defined\n",
    "#Index i can be random number etc. \n",
    "#For example, with machine learning model training we often improve the training untill certain condition is met, for example \"while los < 3000:\"\n",
    "#\n",
    "#In case of for loop we know already in advance that how many times the loop will run\n",
    "#"
   ]
  },
  {
   "cell_type": "markdown",
   "id": "45c9ba71",
   "metadata": {},
   "source": [
    "9. Write a loop (for or while) which prints out the names from your friends list if the name is before M in alphabetic order. "
   ]
  },
  {
   "cell_type": "code",
   "execution_count": 22,
   "id": "ae874b61",
   "metadata": {},
   "outputs": [
    {
     "name": "stdout",
     "output_type": "stream",
     "text": [
      "Jussi\n",
      "Liisa\n"
     ]
    }
   ],
   "source": [
    "#Comparison of character, example\n",
    "\"A\" < \"B\" #True, a character that appears later in alhabet is \"larger\"\n",
    "\"a\" < \"B\" #Note that capital letters are \"smaller\", they appear first in alphabet\n",
    "#A, B, C, D.....a, b, c, d....\n",
    "#1,2,3,4,5,6,7...\n",
    "\n",
    "#First letter of the name\n",
    "#print(friends[3][0])\n",
    "\n",
    "i = 0\n",
    "while i < len(friends): #len(friends) = 6, but the last index is 5, that's why i < len(friends) NOT i <= len(friends)\n",
    "    if friends[i][0] < 'M':\n",
    "        print(friends[i]) #This should be executed only if friends[i][0] < 'M'\n",
    "        \n",
    "    i = i + 1"
   ]
  },
  {
   "cell_type": "markdown",
   "id": "6e7acd9b",
   "metadata": {},
   "source": [
    "10. Write a loop which deletes all the names shorter than five letters from your friends list "
   ]
  },
  {
   "cell_type": "code",
   "execution_count": null,
   "id": "824d21a7",
   "metadata": {},
   "outputs": [
    {
     "name": "stdout",
     "output_type": "stream",
     "text": [
      "['Ian', 'Matt', 'Teppo', 'Joe', 'Liisa', 'Pete', 'Pirkko', 'Tim']\n",
      "['Teppo', 'Liisa', 'Pirkko']\n"
     ]
    }
   ],
   "source": [
    "#In this task we are modifying the list:\n",
    "#For example, after deleting one name, the lenght of list is one element shorter etc.\n",
    "\n",
    "#Method 1: For loop and copy of the list\n",
    "friends =['Ian','Matt','Teppo','Joe','Liisa','Pete','Pirkko','Tim']\n",
    "print(friends)\n",
    "#Take a copy of the list\n",
    "friends_copy = friends.copy()\n",
    "\n",
    "for friend_name in friends_copy: #For loop is defined based on the list. friends_copy is not changing\n",
    "    if len(friend_name) < 5: #Conditional statement, name has less than five letters\n",
    "        #print(friend_name)\n",
    "        friends.remove(friend_name) #This modified the list\n",
    "print(friends)"
   ]
  },
  {
   "cell_type": "code",
   "execution_count": null,
   "id": "639c9d5e",
   "metadata": {},
   "outputs": [
    {
     "name": "stdout",
     "output_type": "stream",
     "text": [
      "['Ian', 'Matt', 'Teppo', 'Joe', 'Liisa', 'Pete', 'Pirkko', 'Tim']\n",
      "['Teppo', 'Liisa', 'Pirkko']\n"
     ]
    }
   ],
   "source": [
    "#In this task we are modifying the list:\n",
    "#For example, after deleting one name, the lenght of list is one element shorter etc.\n",
    "\n",
    "#Method 2: While loop and modified indices\n",
    "friends =['Ian','Matt','Teppo','Joe','Liisa','Pete','Pirkko','Tim']\n",
    "print(friends)\n",
    "\n",
    "#for friend_name in friends_copy: #For loop is defined based on the list. friends_copy is not changing\n",
    "i = 0\n",
    "while i < len(friends):\n",
    "    friend_name = friends[i]\n",
    "    if len(friend_name) < 5: #Conditional statement, name has less than five letters\n",
    "        friends.remove(friend_name) #This modified the list\n",
    "        i = i - 1\n",
    "    i = i + 1\n",
    "\n",
    "print(friends)"
   ]
  },
  {
   "cell_type": "markdown",
   "id": "930afa91",
   "metadata": {},
   "source": [
    "11.  Add names Matti, Jussi and Randy to your friend list. Write a loop which prints out all the other names but number 1 in case of Matti, number 2 in case of Jussi and number 3 in case of Randy"
   ]
  },
  {
   "cell_type": "code",
   "execution_count": 43,
   "id": "e5bff753",
   "metadata": {},
   "outputs": [
    {
     "name": "stdout",
     "output_type": "stream",
     "text": [
      "Ian\n",
      "1\n",
      "Teppo\n",
      "2\n",
      "Liisa\n",
      "3\n",
      "Pirkko\n",
      "Tim\n"
     ]
    }
   ],
   "source": [
    "friends =['Ian','Matti','Teppo','Jussi','Liisa','Randy','Pirkko','Tim']\n",
    "\n",
    "for friend_name in friends: #\"As long as the name is in the list, starting from the first element\"\n",
    "    if friend_name == 'Matti': #If name is Matti\n",
    "        print(1)\n",
    "    elif friend_name == 'Jussi': #If name is Jussi\n",
    "        print(2)\n",
    "    elif friend_name == 'Randy': #If name is Randy\n",
    "        print(3)\n",
    "    else: #All the other cases\n",
    "        print(friend_name)\n",
    "\n",
    "    #print(friend_name)"
   ]
  },
  {
   "cell_type": "code",
   "execution_count": 69,
   "id": "fca7c668",
   "metadata": {},
   "outputs": [
    {
     "name": "stdout",
     "output_type": "stream",
     "text": [
      "['Randy', 'Jussi', 'Matti']\n"
     ]
    },
    {
     "data": {
      "text/plain": [
       "['Matti', 'Jussi', 'Randy', 'Ian', 'Teppo', 'Liisa', 'Pirkko', 'Tim']"
      ]
     },
     "execution_count": 69,
     "metadata": {},
     "output_type": "execute_result"
    }
   ],
   "source": [
    "friends =['Ian','Matti','Teppo','Jussi','Liisa','Randy','Pirkko','Tim']\n",
    "\n",
    "rem_list = ['Matti','Jussi','Randy']\n",
    "rem_list.reverse()\n",
    "print(rem_list)\n",
    "\n",
    "\n",
    "#for friend_name in friends:\n",
    "for friend_name in rem_list:\n",
    "    friends.remove(friend_name)\n",
    "    friends.insert(0,friend_name)\n",
    "\n",
    "friends"
   ]
  }
 ],
 "metadata": {
  "kernelspec": {
   "display_name": "Python 3",
   "language": "python",
   "name": "python3"
  },
  "language_info": {
   "codemirror_mode": {
    "name": "ipython",
    "version": 3
   },
   "file_extension": ".py",
   "mimetype": "text/x-python",
   "name": "python",
   "nbconvert_exporter": "python",
   "pygments_lexer": "ipython3",
   "version": "3.12.3"
  }
 },
 "nbformat": 4,
 "nbformat_minor": 5
}
