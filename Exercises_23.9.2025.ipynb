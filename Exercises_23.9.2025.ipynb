{
 "cells": [
  {
   "cell_type": "code",
   "execution_count": 13,
   "id": "fbc2189f",
   "metadata": {},
   "outputs": [],
   "source": [
    "#29. Use the same population data as in the previous exercise. \n",
    "\n",
    "\n",
    "import pandas as pd\n",
    "df = pd.read_csv('./data/population.csv')\n",
    "df = df.drop(columns = ['Unnamed: 0'])\n",
    "\n",
    "#a) Create a new Pandas data frame where the first column is the year and other 142 columns \n",
    "# are populations of all the countries in the data\n",
    "\n",
    "\n",
    "df_visu = df.pivot(index = 'year', columns = 'country',values = 'pop').reset_index().rename_axis(None,axis = 1)\n",
    "\n",
    "# #Population in millions\n",
    "# df_visu = df_visu/1000000\n",
    "# df_visu['year'] =  (df_visu['year']*1000000).astype(int)\n",
    "\n",
    "df_visu.to_csv('population_country_columns.csv', index=False)\n"
   ]
  },
  {
   "cell_type": "code",
   "execution_count": null,
   "id": "78d9fd0f",
   "metadata": {},
   "outputs": [],
   "source": [
    "#b) Use streamlit and create an interactive web graph where you can select the countries \n",
    "#to be included in the population plot\n",
    "\n",
    "#Streamlit script needs to .py -file\n"
   ]
  },
  {
   "cell_type": "code",
   "execution_count": null,
   "id": "67f652e1",
   "metadata": {},
   "outputs": [],
   "source": [
    "\n",
    "#30. Bonus task Upload your Python script and data from task 29 to Git repository. \n",
    "# Test that you can create the visualization by running streamlit run <script repository>."
   ]
  }
 ],
 "metadata": {
  "kernelspec": {
   "display_name": "Python 3",
   "language": "python",
   "name": "python3"
  },
  "language_info": {
   "codemirror_mode": {
    "name": "ipython",
    "version": 3
   },
   "file_extension": ".py",
   "mimetype": "text/x-python",
   "name": "python",
   "nbconvert_exporter": "python",
   "pygments_lexer": "ipython3",
   "version": "3.12.3"
  }
 },
 "nbformat": 4,
 "nbformat_minor": 5
}
