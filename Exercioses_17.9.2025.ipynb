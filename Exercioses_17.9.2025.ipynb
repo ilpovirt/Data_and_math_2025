{
 "cells": [
  {
   "cell_type": "code",
   "execution_count": null,
   "id": "88ccc32a",
   "metadata": {},
   "outputs": [
    {
     "name": "stdout",
     "output_type": "stream",
     "text": [
      "The mean of X is  3.29\n",
      "The median of X is  4.0\n",
      "The mode of X is  4\n",
      "The standard deviation of X is  3.53\n"
     ]
    }
   ],
   "source": [
    "# 25.  X = (1, 4, 6, -3, 9, 2, 4), calculate first by pen and paper and then using Python:\n",
    "import numpy as np\n",
    "import statistics as st\n",
    "X = [1, 4, 6, -3, 9, 2, 4]\n",
    "# a) Mean of X\n",
    "x_av = np.mean(X)\n",
    "print('The mean of X is ', np.round(x_av,2) )\n",
    "# b) Median of X\n",
    "x_med = np.median(X)\n",
    "print('The median of X is ', np.round(x_med,2) )\n",
    "# c) Mode of X\n",
    "x_mode = st.mode(X)\n",
    "print('The mode of X is ', np.round(x_mode,2) )\n",
    "# d) Standard deviation of X \n",
    "x_std = np.std(X)\n",
    "print('The population standard deviation of X is ', np.round(x_std,2) )"
   ]
  },
  {
   "cell_type": "code",
   "execution_count": null,
   "id": "99537447",
   "metadata": {},
   "outputs": [
    {
     "name": "stdout",
     "output_type": "stream",
     "text": [
      "The value of f when x  = -4 is  -51\n"
     ]
    }
   ],
   "source": [
    "# 26. Function f(x)=−3x^2+2x+5\n",
    "#  calculate:\n",
    "# a) f(0)\n",
    "# b) f(2)\n",
    "# c) f(-4)\n",
    "# d) f(a)\n",
    "\n",
    "def f(x):\n",
    "    return -3*x**2+2*x+5\n",
    "print('The value of f when x  = -4 is ', f(-4))"
   ]
  },
  {
   "cell_type": "code",
   "execution_count": 11,
   "id": "241a90ba",
   "metadata": {},
   "outputs": [
    {
     "data": {
      "image/png": "[encoded data removed]",
      "text/plain": [
       "<Figure size 640x480 with 1 Axes>"
      ]
     },
     "metadata": {},
     "output_type": "display_data"
    }
   ],
   "source": [
    "# 27. Function f(x)=x^2−x−6\n",
    "\n",
    "# a) Draw the curve y = f(x) in x-y -frame first by pen and paper and then using Python\n",
    "# b) Derive roots of f(x) (solve f(x) = 0) \n",
    "# c) Estimate when f(x) is increasing and when it is decreasing\n",
    "\n",
    "def f2(x):\n",
    "    return x**2 - x - 6\n",
    "\n",
    "#Define the range of x values\n",
    "x = np.arange(-4,5,0.1)\n",
    "import matplotlib.pyplot as plt\n",
    "\n",
    "plt.plot(x,f2(x))\n",
    "plt.grid()\n",
    "plt.xlabel('x')\n",
    "plt.ylabel('f(x)')\n",
    "plt.show()"
   ]
  },
  {
   "cell_type": "code",
   "execution_count": 12,
   "id": "d4eb4c2c",
   "metadata": {},
   "outputs": [
    {
     "name": "stdout",
     "output_type": "stream",
     "text": [
      "Roots are [ 3. -2.]\n"
     ]
    }
   ],
   "source": [
    "# b) Derive roots of f(x) (solve f(x) = 0) \n",
    "#f(x)=x^2−x−6\n",
    "#We can write this: f(x)=1*x^2−1*x−6\n",
    "# --> Coefficients of terms are [1,-1,-6] (In a same way as a,b and c in pen-paper solution)\n",
    "#Now we can solve roots:\n",
    "coeff = [1,-1,-6]\n",
    "roots = np.roots(coeff)\n",
    "print('Roots are', roots)\n"
   ]
  },
  {
   "cell_type": "code",
   "execution_count": null,
   "id": "31061e81",
   "metadata": {},
   "outputs": [
    {
     "name": "stdout",
     "output_type": "stream",
     "text": [
      "Time used to calculate the own mean was: 4.057854799990309 secods\n",
      "Time used to calculate the numpy mean was: 0.028137500019511208 secods\n",
      "Time used to calculate the standard mean was: 0.01512999998521991 secods\n",
      "Time used to calculate the own std was: 14.436921900021844 secods\n",
      "Time used to calculate the numpy std was: 0.11581220000516623 secods\n"
     ]
    }
   ],
   "source": [
    "#28. Write your own Python module to calculate mean and standard deviation. \n",
    "# Use only Python standard library excluding mean-function. \n",
    "# Compare its performance to standard library, NumPy and Pandas mean functions. \n",
    "\n",
    "#Let's write functions for mean and std, no reason to write a module\n",
    "\n",
    "def own_mean(x): #x is list, tuple, 1d numpy array etc. \n",
    "    x_sum = 0\n",
    "    i = 0\n",
    "    for xi in x:\n",
    "        x_sum = x_sum + xi #Sum of values\n",
    "        i = i + 1 #Number of values\n",
    "    return x_sum/i\n",
    "\n",
    "def own_std(x): #x is list, tuple, 1d numpy array etc. \n",
    "    x_sum = 0\n",
    "    i = 0\n",
    "    x_mean = own_mean(x)\n",
    "    for xi in x:\n",
    "        x_sum = x_sum + (xi-x_mean)**2 #Sum of values\n",
    "        i = i + 1 #Number of values\n",
    "    return (x_sum/i)**0.5\n",
    "\n",
    "#Let's investigat the performance:\n",
    "#TicTic is a method to calculate time used for executing certain lines of code:\n",
    "\n",
    "X_large = np.random.rand(10000000)\n",
    "\n",
    "from pytictoc import TicToc #pip install pytictoc (if you don't have that)\n",
    "t = TicToc()\n",
    "\n",
    "t.tic() #Start time\n",
    "x_av = own_mean(X_large)\n",
    "time = t.tocvalue()\n",
    "print('Time used to calculate the own mean was:', time, 'secods')\n",
    "\n",
    "t.tic() #Start time\n",
    "x_av = np.mean(X_large)\n",
    "time = t.tocvalue()\n",
    "print('Time used to calculate the numpy mean was:', time, 'secods')\n",
    "\n",
    "t.tic() #Start time\n",
    "x_av = X_large.mean()\n",
    "time = t.tocvalue()\n",
    "print('Time used to calculate the standard mean was:', time, 'secods')\n",
    "\n",
    "t.tic() #Start time\n",
    "x_av = own_std(X_large)\n",
    "time = t.tocvalue()\n",
    "print('Time used to calculate the own std was:', time, 'secods')\n",
    "\n",
    "t.tic() #Start time\n",
    "x_av = np.std(X_large)\n",
    "time = t.tocvalue()\n",
    "print('Time used to calculate the numpy std was:', time, 'secods')\n",
    "\n",
    "#Lesson learned:\n",
    "#Avoid writing unnecessary own functions, they are most likely slow\n",
    "#NymPy librararies are actually written in C++, which is much faster than Python. \n",
    "#And: Python hates loops, they are slow (as all interpreted languages)"
   ]
  }
 ],
 "metadata": {
  "kernelspec": {
   "display_name": "Python 3",
   "language": "python",
   "name": "python3"
  },
  "language_info": {
   "codemirror_mode": {
    "name": "ipython",
    "version": 3
   },
   "file_extension": ".py",
   "mimetype": "text/x-python",
   "name": "python",
   "nbconvert_exporter": "python",
   "pygments_lexer": "ipython3",
   "version": "3.12.3"
  }
 },
 "nbformat": 4,
 "nbformat_minor": 5
}
