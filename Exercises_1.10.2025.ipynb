{
 "cells": [
  {
   "cell_type": "code",
   "execution_count": 8,
   "id": "4cb5302a",
   "metadata": {},
   "outputs": [
    {
     "name": "stdout",
     "output_type": "stream",
     "text": [
      "The magnitude of a is 3.74\n",
      "The magnitude of b is 5.48\n",
      "b - a is: [-5  3 -6]\n",
      "The magnitude of b - a is 8.37\n"
     ]
    }
   ],
   "source": [
    "#Exercise 33\n",
    "import numpy as np \n",
    "#Define vectors\n",
    "a = np.array([3,-2,1])\n",
    "b = np.array([-2,1,-5])\n",
    "print('The magnitude of a is', np.round(np.linalg.norm(a),2))\n",
    "print('The magnitude of b is', np.round(np.linalg.norm(b),2))\n",
    "print('b - a is:', b - a)\n",
    "print('The magnitude of b - a is', np.round(np.linalg.norm(b - a),2))"
   ]
  },
  {
   "cell_type": "code",
   "execution_count": 10,
   "id": "ee61f15c",
   "metadata": {},
   "outputs": [
    {
     "name": "stdout",
     "output_type": "stream",
     "text": [
      "The dot product of a and a is 21\n",
      "The dot product of a and b is 15\n",
      "The dot product of a and c is 11\n",
      "The dot product of b and c is 6\n"
     ]
    }
   ],
   "source": [
    "#34\n",
    "a = np.array([4,-2,-1])\n",
    "b = np.array([3,-3,3])\n",
    "c = np.array([2,-1,-1])\n",
    "print('The dot product of a and a is', np.dot(a,a))\n",
    "print('The dot product of a and b is', np.dot(a,b))\n",
    "print('The dot product of a and c is', np.dot(a,c))\n",
    "print('The dot product of b and c is', np.dot(b,c))"
   ]
  },
  {
   "cell_type": "code",
   "execution_count": null,
   "id": "5e971084",
   "metadata": {},
   "outputs": [
    {
     "name": "stdout",
     "output_type": "stream",
     "text": [
      "The magnitude of A is 5.92\n",
      "The magnitude of B is 4.58\n",
      "Sum of A and B is [-1 -2  9]\n",
      "The dot product of A and B is 15\n",
      "5A is [  5 -15  25]\n",
      "The dot product of A and 5B is 75\n",
      "The cross product of A and B is [-17 -14  -5]\n"
     ]
    }
   ],
   "source": [
    "#36\n",
    "A = np.array([1,-3,5])\n",
    "B = np.array([-2,1,4])\n",
    "print('The magnitude of A is', np.round(np.linalg.norm(A),2))\n",
    "print('The magnitude of B is', np.round(np.linalg.norm(B),2))\n",
    "print('Sum of A and B is', A + B)\n",
    "print('The dot product of A and B is', np.dot(A,B))\n",
    "print('5A is', 5*A)\n",
    "print('The dot product of A and 5B is', np.dot(A,5*B))\n",
    "print('The cross product of A and B is', np.cross(A,B)) #Gives a vector perpendicular to A and B. \n",
    "#If A and B are parallel, cross product is zero"
   ]
  },
  {
   "cell_type": "code",
   "execution_count": null,
   "id": "5dc86d57",
   "metadata": {},
   "outputs": [
    {
     "name": "stdout",
     "output_type": "stream",
     "text": [
      "The product of A and B is \n",
      " [[ 6  4  2]\n",
      " [ 4  5  2]\n",
      " [ 0 14  5]]\n",
      "\n",
      " The product of B and A is \n",
      " [[9 2 2]\n",
      " [2 3 4]\n",
      " [9 3 4]]\n"
     ]
    }
   ],
   "source": [
    "#37\n",
    "A = np.array([[1,1,1],[2,1,0],[3,-1,2]])\n",
    "B = np.array([[0,3,1],[4,-1,0],[2,2,1]])\n",
    "#Multiplication\n",
    "print('The product of A and B is \\n' , np.matmul(A,B))\n",
    "print('\\n The product of B and A is \\n' , np.matmul(B,A))\n",
    "\n",
    "#Matric multiplication is not cummutative, AB is different from BA"
   ]
  },
  {
   "cell_type": "code",
   "execution_count": 28,
   "id": "c496907c",
   "metadata": {},
   "outputs": [
    {
     "name": "stdout",
     "output_type": "stream",
     "text": [
      "Matix A is \n",
      " [[ 4  2 -5  6]\n",
      " [ 1 -2  9  2]\n",
      " [ 0  3 11  4]]\n",
      "\n",
      " Matix B is \n",
      " [[ 2  5 -5  3]\n",
      " [ 3  4 -9 -2]\n",
      " [-7  1  1  0]]\n",
      "\n",
      " The sum A + B is \n",
      " [[  6   7 -10   9]\n",
      " [  4   2   0   0]\n",
      " [ -7   4  12   4]]\n",
      "\n",
      " Transpose of A is \n",
      " [[ 4  1  0]\n",
      " [ 2 -2  3]\n",
      " [-5  9 11]\n",
      " [ 6  2  4]]\n",
      "\n",
      " Transpose of B is \n",
      " [[ 2  3 -7]\n",
      " [ 5  4  1]\n",
      " [-5 -9  1]\n",
      " [ 3 -2  0]]\n",
      "The product of A and transpose of B is \n",
      " [[ 61  53 -31]\n",
      " [-47 -90   0]\n",
      " [-28 -95  14]]\n"
     ]
    }
   ],
   "source": [
    "#Exercise 38\n",
    "A = np.array([[4,2,-5,6],[1,-2,9,2],[0,3,11,4]])\n",
    "B = np.array([[2,5,-5,3],[3,4,-9,-2],[-7,1,1,0]])\n",
    "print('Matix A is \\n', A)\n",
    "print('\\n Matix B is \\n', B)\n",
    "print('\\n The sum A + B is \\n', A + B) #Summing matrices element by element\n",
    "print('\\n Transpose of A is \\n', np.transpose(A)) #rows become colums and columns became rows\n",
    "print('\\n Transpose of B is \\n', np.transpose(B))\n",
    "print('The product of A and transpose of B is \\n' , np.matmul(A,np.transpose(B)))"
   ]
  }
 ],
 "metadata": {
  "kernelspec": {
   "display_name": "Python 3",
   "language": "python",
   "name": "python3"
  },
  "language_info": {
   "codemirror_mode": {
    "name": "ipython",
    "version": 3
   },
   "file_extension": ".py",
   "mimetype": "text/x-python",
   "name": "python",
   "nbconvert_exporter": "python",
   "pygments_lexer": "ipython3",
   "version": "3.12.3"
  }
 },
 "nbformat": 4,
 "nbformat_minor": 5
}
