{
 "cells": [
  {
   "cell_type": "markdown",
   "id": "daef2a80",
   "metadata": {},
   "source": [
    "1. What would be the optimal data type for the following variables:     \n",
    "a) 16.3 (number)    \n",
    "b) 20 (number)    \n",
    "c) 304.00 (number)    \n",
    "d)Cat (text)     \n",
    "e) 11872A4394TH00+ (random code)"
   ]
  },
  {
   "cell_type": "code",
   "execution_count": 9,
   "id": "04a4a5ea",
   "metadata": {},
   "outputs": [
    {
     "data": {
      "text/plain": [
       "int"
      ]
     },
     "execution_count": 9,
     "metadata": {},
     "output_type": "execute_result"
    }
   ],
   "source": [
    "a = 16.3 #Float is optimal because 16.3 has decimals and integer (int) would ignore them. String (str) is not practical (cannot perform math operations)\n",
    "type(a)\n",
    "b = 20 #Integer is optimal because no decimals needed and float would use more memory. String is not practical\n",
    "type(b)\n",
    "c = 304.00 #Float keeps the full accuracy\n",
    "type(c)\n",
    "d = \"Cat\" #String, no other options\n",
    "type(d)\n",
    "e = '11872A4394TH00+' #String, no other options\n",
    "type(e)\n",
    "#Extra: conversion\n",
    "f = 304.00 #Float keeps the full accuracy\n",
    "f = int(f)\n",
    "type(f)"
   ]
  },
  {
   "cell_type": "markdown",
   "id": "a6c3735f",
   "metadata": {},
   "source": [
    "2. Create a list (list object) of your friends      \n",
    "a) Add a new friend     \n",
    "b) Remove a friend      \n",
    "c) Change a friends name    \n",
    "d) Create another list of family members    \n",
    "e) Join friend list and family member list  \n",
    "f) Sort list to alphabetic order    \n",
    "g) Create another list of their ages    \n",
    "f) Mark one age to be \"unknown\" "
   ]
  },
  {
   "cell_type": "code",
   "execution_count": 27,
   "id": "fefc45cb",
   "metadata": {},
   "outputs": [
    {
     "name": "stdout",
     "output_type": "stream",
     "text": [
      "['Matti', 'Jussi', 'Johanna']\n",
      "['Mom', 'Dad', 'Daughter', 'Daughter', 'Hamster']\n",
      "['Dad', 'Daughter', 'Daughter', 'Hamster', 'Johanna', 'Jussi', 'Matti', 'Mom']\n",
      "[41, 11, 'Unknown', 0.9, 34, 45, 67, 45]\n"
     ]
    }
   ],
   "source": [
    "friends =['Matti','Teppo','Jussi'] #List uses square brackets\n",
    "\n",
    "#a)\n",
    "friends.append('Jukka')\n",
    "\n",
    "#b\n",
    "friends.remove('Teppo')\n",
    "\n",
    "#c\n",
    "friends[2] = 'Johanna' #Indexing in Python starts from zero\n",
    "\n",
    "#d\n",
    "family = ['Mom','Dad','Daughter','Daughter','Hamster'] #Dublicates allowed\n",
    "\n",
    "#e\n",
    "friends_and_family = friends + family\n",
    "\n",
    "#f\n",
    "friends_and_family.sort()\n",
    "\n",
    "#g\n",
    "ages = [41,11,14,0.9,34,45,67,45] #For analytics purposes separate lists are not practical\n",
    "\n",
    "#f\n",
    "ages[2] = 'Unknown'\n",
    "\n",
    "print(friends)\n",
    "print(family)\n",
    "print(friends_and_family)\n",
    "print(ages)"
   ]
  },
  {
   "cell_type": "markdown",
   "id": "8118c443",
   "metadata": {},
   "source": [
    "3. Create a tuple (tuple object) of your friends    \n",
    "a) Try to complete all the step you did in the previous task (use tuple also for family members and ages)   \n",
    "b) Which of them are not working?   "
   ]
  },
  {
   "cell_type": "code",
   "execution_count": 34,
   "id": "dcaf6822",
   "metadata": {},
   "outputs": [
    {
     "name": "stdout",
     "output_type": "stream",
     "text": [
      "('Matti', 'Teppo', 'Jussi')\n",
      "('Mom', 'Dad', 'Daughter', 'Daughter', 'Hamster')\n",
      "('Matti', 'Teppo', 'Jussi', 'Mom', 'Dad', 'Daughter', 'Daughter', 'Hamster')\n"
     ]
    }
   ],
   "source": [
    "friends_tuple = ('Matti','Teppo','Jussi') #Rounds brackets for tuple\n",
    "#a) Add a new friend \n",
    "#Cannot do that, tuples are non-mutable (cannot be changed)\n",
    "#Cannot add, remove or change tuple elements.\n",
    "\n",
    "#If we need to change tuple, convert tuple to list --> Modify --> Convert back to tuple\n",
    "#Example:\n",
    "family_tuple = ('Mom','Dad','Daughter','Daughter','Hamster')\n",
    "\n",
    "friends_and_family = tuple(list(friends_tuple) + list(family_tuple))\n",
    "\n",
    "\n",
    "print(friends_tuple)\n",
    "print(family_tuple)\n",
    "print(friends_and_family)\n"
   ]
  },
  {
   "cell_type": "markdown",
   "id": "4d34a831",
   "metadata": {},
   "source": [
    "4. Create a set (set object) of your friends    \n",
    "a) Try to complete all the step you did in the previous task  (use set also for family members and ages)    \n",
    "b) Which of them are not working?"
   ]
  },
  {
   "cell_type": "code",
   "execution_count": null,
   "id": "2339ed01",
   "metadata": {},
   "outputs": [
    {
     "name": "stdout",
     "output_type": "stream",
     "text": [
      "{'Johanna', 'Jussi', 'Jukka'}\n",
      "{'Hamster', 'Daughter', 'Dad', 'Mom'}\n",
      "{'Johanna', 'Daughter', 'Dad', 'Mom', 'Jussi', 'Hamster', 'Jukka'}\n",
      "{0.9, 67, 41, 11, 'Unknown', 45, 14}\n"
     ]
    }
   ],
   "source": [
    "#For mass commeneting select the code and press ctrl + '\n",
    "\n",
    "friends = {'Matti','Teppo','Jussi'} #Set uses curly brackets and the order of elements is random\n",
    "\n",
    "##a)\n",
    "friends.add('Jukka') #Order is random\n",
    "friends.add('Matti') #Cannot add dublicates\n",
    "\n",
    "# #b\n",
    "friends.remove('Teppo')\n",
    "\n",
    "# #c\n",
    "#friends[2] = 'Johanna' #Set is not ordered\n",
    "friends.remove('Matti') #Remove\n",
    "friends.add('Johanna') #Add\n",
    "\n",
    "# #d\n",
    "family = {'Mom','Dad','Daughter','Daughter','Hamster'} #No dublicates\n",
    "\n",
    "# #e\n",
    "friends_and_family = friends | family\n",
    "#or\n",
    "friends_and_family = friends.union(family)\n",
    "\n",
    "# #f\n",
    "# Set doesn't have order, sorting not working\n",
    "\n",
    "# #g\n",
    "ages = {41,11,14,0.9,34,45,67,45} #\n",
    "\n",
    "# #f\n",
    "ages.remove(34) #remove\n",
    "ages.add('Unknown') #add\n",
    "#Also sett support multiple data types\n",
    "\n",
    "print(friends)\n",
    "print(family)\n",
    "print(friends_and_family)\n",
    "print(ages)"
   ]
  },
  {
   "cell_type": "markdown",
   "id": "3806621a",
   "metadata": {},
   "source": [
    "5. Compare list, set and tuple in case the three examples above. What are pros and cons of them?        \n",
    "\n",
    "List: Mutable, ordered      \n",
    "\n",
    "Tuple: Immutable, ordered       \n",
    "\n",
    "Set: No dublicates, no order, performance       "
   ]
  },
  {
   "cell_type": "markdown",
   "id": "823fc898",
   "metadata": {},
   "source": [
    "6. Create a dictionary of your friends and their ages       \n",
    "a) Add a new friend and age     \n",
    "b) Modify the name of one friend        \n",
    "c) Modify the age of one friend "
   ]
  },
  {
   "cell_type": "code",
   "execution_count": null,
   "id": "e8694493",
   "metadata": {},
   "outputs": [
    {
     "name": "stdout",
     "output_type": "stream",
     "text": [
      "The age of Ilpo is  41\n",
      "{'Jack': 67, 'Martha': 34, 'Jenni': 33, 'Abdul': 28, 'Diana': 27, 'Tuula': 17}\n"
     ]
    }
   ],
   "source": [
    "friends_and_ages = {\n",
    "    'Ilpo' : 41,\n",
    "    'Jack' : 67,\n",
    "    'Martha' : 34,\n",
    "    'Jenni' : 33,\n",
    "    'Abdul' : 28\n",
    "}\n",
    "\n",
    "#The purpose the dictinary is to find a value corresponding to the key\n",
    "#For example\n",
    "print('The age of Ilpo is ', friends_and_ages['Ilpo'])\n",
    "\n",
    "#a\n",
    "friends_and_ages[\"Diana\"] = 27\n",
    "\n",
    "#b\n",
    "friends_and_ages[\"Tuula\"] = 67 #Add\n",
    "friends_and_ages.pop('Ilpo') #Remove\n",
    "\n",
    "#c \n",
    "friends_and_ages[\"Tuula\"] = 17 #This modifies, no dublicate keys allowed\n",
    "\n",
    "#Dictionary is the best option among Python built-in data types if you need to pair values based on unique key.\n",
    "\n",
    "print(friends_and_ages)"
   ]
  }
 ],
 "metadata": {
  "kernelspec": {
   "display_name": "Python 3",
   "language": "python",
   "name": "python3"
  },
  "language_info": {
   "codemirror_mode": {
    "name": "ipython",
    "version": 3
   },
   "file_extension": ".py",
   "mimetype": "text/x-python",
   "name": "python",
   "nbconvert_exporter": "python",
   "pygments_lexer": "ipython3",
   "version": "3.12.3"
  }
 },
 "nbformat": 4,
 "nbformat_minor": 5
}
