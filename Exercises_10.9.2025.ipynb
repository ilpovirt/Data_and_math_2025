{
 "cells": [
  {
   "cell_type": "markdown",
   "id": "a9b8cb4a",
   "metadata": {},
   "source": [
    "21. Create NumPy Array of 5*6 integer elements  \n",
    "\n",
    "a) Multiply the second element of third row by three    \n",
    "b) Change one element to float, does it affect the others?  \n",
    "c) Calculate row and column averages    \n",
    "d) Create another array which contains first three rows and four columns of the original array  \n",
    "e) Reshape the original array to 3 * 10 array     \n",
    "f) Transpose the new 3 * 10 arrays    \n",
    "\n"
   ]
  },
  {
   "cell_type": "code",
   "execution_count": 47,
   "id": "0dc629fe",
   "metadata": {},
   "outputs": [
    {
     "name": "stdout",
     "output_type": "stream",
     "text": [
      "[[ 1.   2.   9.   4.   5. ]\n",
      " [ 6.   3.   6.   5.   4. ]\n",
      " [ 8.  15.   5.   6.   4. ]\n",
      " [ 5.   3.5  4.   5.   3. ]\n",
      " [ 5.   8.   3.   4.   0. ]\n",
      " [ 1.   5.   2.   3.   0. ]]\n",
      "\n",
      " The average of all values is  4.483333333333333\n",
      "\n",
      " Column averages are  [4.33333333 6.08333333 4.83333333 4.5        2.66666667]\n",
      "\n",
      " Row averages are  [4.2 4.8 7.6 4.1 4.  2.2] \n",
      "\n",
      "The limited array is \n",
      " [[ 1.  2.  9.  4.]\n",
      " [ 6.  3.  6.  5.]\n",
      " [ 8. 15.  5.  6.]] \n",
      "\n",
      "The shape of new array is (3, 4)\n",
      "The new array with 3*10 dimensions is \n",
      " [[ 1.   2.   9.   4.   5.   6.   3.   6.   5.   4. ]\n",
      " [ 8.  15.   5.   6.   4.   5.   3.5  4.   5.   3. ]\n",
      " [ 5.   8.   3.   4.   0.   1.   5.   2.   3.   0. ]]\n",
      "The transpose array s is \n",
      " [[ 1.   8.   5. ]\n",
      " [ 2.  15.   8. ]\n",
      " [ 9.   5.   3. ]\n",
      " [ 4.   6.   4. ]\n",
      " [ 5.   4.   0. ]\n",
      " [ 6.   5.   1. ]\n",
      " [ 3.   3.5  5. ]\n",
      " [ 6.   4.   2. ]\n",
      " [ 5.   5.   3. ]\n",
      " [ 4.   3.   0. ]]\n"
     ]
    }
   ],
   "source": [
    "# Create an array\n",
    "import numpy as np\n",
    "#Manually\n",
    "num_array = np.array([[1,2,9,4,5],[6,3,6,5,4],[8,5,5,6,4],[5,0,4,5,3],[5,8,3,4,0],[1,5,2,3,0]])\n",
    "#Or random\n",
    "#num_array = np.random.randint(10, size=(5,6))\n",
    "#print(num_array)\n",
    "\n",
    "#a)\n",
    "num_array[2,1] = num_array[2,1]*3\n",
    "\n",
    "\n",
    "# b)\n",
    "type(num_array[2,2])\n",
    "#Change some other element to float\n",
    "#num_array[3,1] = 3.5 #This doesn't work, because the data  type of entire array is int and also 3.5 will be converted to integer.\n",
    "#All the elements have the same datatype!!\n",
    "#Must convert the entire array to float:\n",
    "num_array = num_array.astype(float)\n",
    "num_array[3,1] = 3.5\n",
    "print(num_array)\n",
    "\n",
    "# c)\n",
    "print('\\n The average of all values is ', np.mean(num_array))\n",
    "print('\\n Column averages are ', np.mean(num_array, axis = 0))\n",
    "print('\\n Row averages are ', np.mean(num_array, axis = 1),'\\n')\n",
    "\n",
    "# d) \n",
    "new_array = num_array[0:3,0:4]\n",
    "print('The limited array is \\n',new_array,'\\n')\n",
    "print('The shape of new array is',new_array.shape)\n",
    "\n",
    "#e ) Reshape to 3 times 10\n",
    "#Note that the number of elements should match. 5*6 = 30 = 3*10\n",
    "reshape_array = np.reshape(num_array,[3,10])\n",
    "print('The new array with 3*10 dimensions is \\n',reshape_array)\n",
    "\n",
    "# f ) Transpose means that rows become columns and columns become rows\n",
    "transpose_array = np.transpose(reshape_array)\n",
    "#Or\n",
    "#transpose_array = reshape_array.T\n",
    "print('The transpose array s is \\n',transpose_array)"
   ]
  },
  {
   "cell_type": "markdown",
   "id": "beef5ade",
   "metadata": {},
   "source": [
    "22. Carry out the following basic operations on NumPy   \n",
    "\n",
    "a) Create an array of 5 zeros.  \n",
    "b) Create an array of 5 ones.   \n",
    "c) Create two arrays: arr1 = [1, 2, 3, 4] and arr2 = [10, 20, 30, 40]. Perform element-wise addition, subtraction, multiplication, and division.    \n",
    "d) Create an array with values from 1 to 12 (inclusive) and reshape it into a 3x4 matrix.   \n",
    "e) Create a NumPy array with values [0, 5, 10, 15, 20]. Return all elements that are greater than 10    \n",
    "\n"
   ]
  },
  {
   "cell_type": "code",
   "execution_count": 66,
   "id": "9643d5ad",
   "metadata": {},
   "outputs": [
    {
     "name": "stdout",
     "output_type": "stream",
     "text": [
      "Element-wise addition arr1 + arr2 equals: [11 22 33 44]\n",
      "Element-wise substraction arr1 - arr2 equals: [ -9 -18 -27 -36]\n",
      "Element-wise multiplication arr1 * arr2 equals: [ 10  40  90 160]\n",
      "Element-wise division arr1 * arr2 equals: [0.1 0.1 0.1 0.1]\n",
      "The array from 1 to 12 \n",
      " [ 1  2  3  4  5  6  7  8  9 10 11 12]\n",
      "\n",
      " Reshaped array is \n",
      " [[ 1  2  3  4]\n",
      " [ 5  6  7  8]\n",
      " [ 9 10 11 12]]\n",
      "\n",
      " Values larger than 10 are: [15 20]\n"
     ]
    }
   ],
   "source": [
    "# a)\n",
    "zero_array = np.zeros(5) #Five zeros, floats!!!\n",
    "#zero_array = np.zeros([5,5]) #5*5 zeros\n",
    "\n",
    "#  b) \n",
    "one_array = np.ones(5)\n",
    "#Or\n",
    "#one_array = np.zeros(5) + 1 #This approach is good if you need something else than zeros or ones\n",
    "one_array\n",
    "#\n",
    "#c) \n",
    "arr1 = np.array([1,2,3,4])\n",
    "arr2 = np.array([10,20,30,40])\n",
    "#Basic operations are simple and logical in Python. \n",
    "print('Element-wise addition arr1 + arr2 equals:', arr1 + arr2)\n",
    "print('Element-wise substraction arr1 - arr2 equals:', arr1 - arr2)\n",
    "print('Element-wise multiplication arr1 * arr2 equals:', arr1 * arr2)\n",
    "print('Element-wise division arr1 * arr2 equals:', arr1 / arr2)\n",
    "\n",
    "#d) We often need this type of array\n",
    "array_12 = np.arange(1,13,1)\n",
    "print('The array from 1 to 12 \\n',array_12 )\n",
    "reshape_array_12 = np.reshape(array_12,[3,4]) \n",
    "print('\\n Reshaped array is \\n', reshape_array_12)\n",
    "\n",
    "#e)\n",
    "array_last = np.array([0,5,10,15,20])\n",
    "#Define a new variable:\n",
    "greater_than_10 = array_last[array_last>10]\n",
    "print('\\n Values larger than 10 are:', greater_than_10)\n"
   ]
  },
  {
   "cell_type": "markdown",
   "id": "80a579b4",
   "metadata": {},
   "source": [
    "23. Compare NumPy and Pandas arrays. Which one you prefer for different purposes? What are pros and cons?   "
   ]
  },
  {
   "cell_type": "code",
   "execution_count": null,
   "id": "ff7d55d5",
   "metadata": {},
   "outputs": [],
   "source": [
    "import pandas as pd\n",
    "import numpy as np\n",
    "import matplotlib.pyplot as plt\n",
    "\n",
    "#Numpy:\n",
    "# - Mathematical\n",
    "# - Fast\n",
    "# - Supports data with large dimensions (multidimensional, large number of columns)\n",
    "#NumPy is a tool for heavy number crushing\n",
    "\n",
    "#Pandas\n",
    "# - DataFrame \"table/spreadsheet feeling\"\n",
    "# - Headers are nice (know what you have)\n",
    "# - DataFrames allow higher level operations (SQL-type: groups, merge, join)\n",
    "# - DataFrame allow multiple data types (but only one per column)\n",
    "\n",
    "#Conclusion:\n",
    "#Use Pandas if you can.\n",
    "\n",
    "\n"
   ]
  }
 ],
 "metadata": {
  "kernelspec": {
   "display_name": "Python 3",
   "language": "python",
   "name": "python3"
  },
  "language_info": {
   "codemirror_mode": {
    "name": "ipython",
    "version": 3
   },
   "file_extension": ".py",
   "mimetype": "text/x-python",
   "name": "python",
   "nbconvert_exporter": "python",
   "pygments_lexer": "ipython3",
   "version": "3.12.3"
  }
 },
 "nbformat": 4,
 "nbformat_minor": 5
}
