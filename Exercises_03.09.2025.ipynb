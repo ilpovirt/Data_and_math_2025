{
 "cells": [
  {
   "cell_type": "markdown",
   "id": "92ebe216",
   "metadata": {},
   "source": [
    "12.  Install the most important libraries NumPy, Pandas, Matplotlib, SymPy and SciPy. Make sure that you can import all of them to the program"
   ]
  },
  {
   "cell_type": "code",
   "execution_count": 2,
   "id": "6286040a",
   "metadata": {},
   "outputs": [
    {
     "data": {
      "text/plain": [
       "np.float64(5.0)"
      ]
     },
     "execution_count": 2,
     "metadata": {},
     "output_type": "execute_result"
    }
   ],
   "source": [
    "#After installing for example NumPy, import it:\n",
    "\n",
    "import numpy as np #Import\n",
    "\n",
    "#Test some function/module in NumPy\n",
    "#Average:\n",
    "score_list = [3,4,5,7,2,4,6,7,7]\n",
    "np.mean(score_list)"
   ]
  },
  {
   "cell_type": "markdown",
   "id": "4c474e22",
   "metadata": {},
   "source": [
    "13. Create a Jupyter  notebook with the following functions\n",
    "\n",
    "a) Mathematical formula $y=3x^2+2x−6$     \n",
    "b) Comparison between three integers, the function returns the middle one (also returns an integer in case of equal integers).      \n",
    "c) A combination of two functions above, where the function first selects the middle one among three integers and then calculates  $y=3x^2+2x−6$ where x is the selected integer.       \n",
    "d) In the next code block call all three functions with some input values and print the output  "
   ]
  },
  {
   "cell_type": "code",
   "execution_count": null,
   "id": "0e722e7a",
   "metadata": {},
   "outputs": [
    {
     "name": "stdout",
     "output_type": "stream",
     "text": [
      "The value of y when x  = 3 is  27\n",
      "The middle one of 8,5,1 is 5\n",
      "Our math function return for 9,3,6 is 114\n",
      "Our math function 2 return for 9,3,6 is 114\n",
      "Our math function 3 (no new function) return for 9,3,6 is 114\n"
     ]
    }
   ],
   "source": [
    "#a) \n",
    "#This is a function which takes x as an independent variable and returns y as dependent variable\n",
    "\n",
    "def math_formula(x):\n",
    "    y = 3*x**2 + 2*x -6 \n",
    "    return y\n",
    "print('The value of y when x  = 3 is ',math_formula(3))\n",
    "\n",
    "#b)\n",
    "def middle_int(a,b,c): #a, b and c are integers\n",
    "    A = sorted([a,b,c]) #We could also write this using conditional statements (if)\n",
    "    return A[1]\n",
    "print('The middle one of 8,5,1 is', middle_int(8,5,1))\n",
    "\n",
    "#c)\n",
    "#Method 1: Assuming that we don't have functions math_formula and middle_int\n",
    "\n",
    "def middle_int_function(a,b,c): #Learn to write a function\n",
    "    A = sorted([a,b,c])\n",
    "    x = A[1]\n",
    "    y = 3*x**2 + 2*x -6\n",
    "    return y\n",
    "print('Our math function return for 9,3,6 is', middle_int_function(9,3,6))\n",
    "\n",
    "#Method 2: Function inside a function\n",
    "def middle_int_function2(a,b,c): #Learn to use function inside a functions\n",
    "    x = middle_int(a,b,c)\n",
    "    y = math_formula(x)\n",
    "    return y\n",
    "print('Our math function 2 return for 9,3,6 is', middle_int_function2(9,3,6))\n",
    "\n",
    "#Method 3: No new function, learn to call function inside a function.\n",
    "print('Our math function 3 (no new function) return for 9,3,6 is', math_formula(middle_int(9,3,6)))\n",
    "\n",
    "#d) done earlier\n"
   ]
  },
  {
   "cell_type": "markdown",
   "id": "3841c400",
   "metadata": {},
   "source": [
    "14. Repeat the previous exercise but write your functions to the module instead of writing them inside the script\n"
   ]
  },
  {
   "cell_type": "code",
   "execution_count": 13,
   "id": "7b966533",
   "metadata": {},
   "outputs": [
    {
     "name": "stdout",
     "output_type": "stream",
     "text": [
      "The value of y when x  = 3 is  27\n",
      "The middle one of 8,5,1 is 5\n",
      "Our math function return for 9,3,6 is 114\n"
     ]
    }
   ],
   "source": [
    "#Using the module makes the code more user-friendly and allows to export modules to other software\n",
    "#Module is a .py file (Python script) which includes functions\n",
    "#You can develop functions in the Jupyter notebook and then copy them to the script file.\n",
    "\n",
    "#Import the module\n",
    "import my_module as mm \n",
    "\n",
    "#Call functions\n",
    "\n",
    "print('The value of y when x  = 3 is ',mm.math_formula(3)) #module_name.function_name(variables)\n",
    "print('The middle one of 8,5,1 is', mm.middle_int(8,5,1))\n",
    "print('Our math function return for 9,3,6 is', mm.middle_int_function(9,3,6))"
   ]
  },
  {
   "cell_type": "markdown",
   "id": "175d2f88",
   "metadata": {},
   "source": [
    "\n",
    "15. Distance of the moving object is defined as $s=s_0+v_0t+1/2at^2$\n",
    "\n",
    "a). Use lambda function to define the function s with input parameters $s_0$ = 10, $v_0$ = 3 and a = 2.     \n",
    "b). Calculate the value for s when t = 10.  \n",
    "\n"
   ]
  },
  {
   "cell_type": "code",
   "execution_count": null,
   "id": "5b2de286",
   "metadata": {},
   "outputs": [
    {
     "name": "stdout",
     "output_type": "stream",
     "text": [
      "The distance is  470.0\n",
      "The distance is  470.0\n"
     ]
    }
   ],
   "source": [
    "#Let's do this without lambda first\n",
    "\n",
    "#s0 = initial distance when t = 0\n",
    "#v0 = initial velocity then t = 0\n",
    "#a = acceleration\n",
    "#t = time\n",
    "def distance(s0,v0,a,t):\n",
    "    s = s0 + v0*t + 1/2*a*t**2\n",
    "    return s\n",
    "#If s0 = 10, v0 = 3, a = 2 and t = 20, we can calculate:\n",
    "s = distance(10,3,2,20)\n",
    "print('The distance is ',s)\n",
    "#This is fine if we need one value of distance for one instance of time. \n",
    "#However, often we like to know the distance over time interval, where t changes, but others parameters (s0,v0,a) don't\n",
    "#Lambda functions in then very handy\n",
    "\n",
    "def distance_l(s0,v0,a):\n",
    "    return lambda t : s0 + v0*t + 1/2*a*t**2\n",
    "\n",
    "#Using this function: We define s0,v0 and a\n",
    "dist_fun = distance_l(10,3,2)\n",
    "print('The distance is ', dist_fun(20))"
   ]
  },
  {
   "cell_type": "markdown",
   "id": "afa33f27",
   "metadata": {},
   "source": [
    "16.  Write a class cities, which has unique attributes name and population and shared attributes type = 'city', planet = 'Earth'"
   ]
  },
  {
   "cell_type": "code",
   "execution_count": null,
   "id": "f2536d7b",
   "metadata": {},
   "outputs": [
    {
     "name": "stdout",
     "output_type": "stream",
     "text": [
      "The name of the city is Oulu  , the population is  200000 , it is located in the Earth\n",
      "The name of the city is Oulu  , the population is  300000 , it is located in the Tellus\n"
     ]
    }
   ],
   "source": [
    "class cities:\n",
    "    type = 'city'\n",
    "    planet = 'Earth'\n",
    "    def __init__(self,city_name,city_population):\n",
    "        self.name = city_name\n",
    "        self.population = city_population\n",
    "\n",
    "#Let's create an object oulu_city\n",
    "oulu_city = cities('Oulu',200000) #Define unique attributes city_name and city_population\n",
    "print('The name of the city is', oulu_city.name,' , the population is ', oulu_city.population, ', it is located in the',oulu_city.planet)\n",
    "\n",
    "#Object can be modified:\n",
    "oulu_city.population = 300000\n",
    "oulu_city.planet = 'Tellus'\n",
    "print('The name of the city is', oulu_city.name,' , the population is ', oulu_city.population, ', it is located in the',oulu_city.planet)\n",
    "\n"
   ]
  },
  {
   "cell_type": "markdown",
   "id": "cc1616e8",
   "metadata": {},
   "source": [
    "16.1 Bonus tasks. Write a class customer_data which has unique attributes name, customer id, revenue and customer segments. All attribute values are lists or tuples. \n",
    "\n",
    "a) Create customer data object which includes information for about five customers. Consider carefully whether to use list or tuple in each case.   \n",
    "b) Print out customer id and revenue for one particular customer    \n",
    "c) Change one value of revenue  "
   ]
  },
  {
   "cell_type": "code",
   "execution_count": 33,
   "id": "7445bafa",
   "metadata": {},
   "outputs": [
    {
     "name": "stdout",
     "output_type": "stream",
     "text": [
      "Our customers are:  ('Jack', 'Mary', 'Hans', 'Camilla', 'Violet')\n",
      "The first one on the list is  Jack\n",
      "Customer id for Camilla is 13453452345\n",
      "Revenue for Camilla is 76\n",
      "Customer id for Camilla is 13453452345\n",
      "Revenue for Camilla is 76\n",
      "Old revenue for Hans was 3\n",
      "New revenue for Hans is 450\n"
     ]
    }
   ],
   "source": [
    "\n",
    "class customer_data:\n",
    "    data_type = 'customer_data'\n",
    "    def __init__(self,customer_name,customer_id,customer_revenue,customer_segment):\n",
    "        self.name = customer_name\n",
    "        self.id = customer_id\n",
    "        self.revenue = customer_revenue\n",
    "        self.segment = customer_segment\n",
    "\n",
    "#a)\n",
    "customer_name = ('Jack','Mary','Hans','Camilla','Violet') #Tuple, immutable\n",
    "customer_id  = ('44356456','7546757','4643563456','13453452345','7567476') #Tuple, immutable\n",
    "customer_revenue = [44,765,3,76,0] #List, mutable\n",
    "customer_segment = [2,3,4,2,4]\n",
    "\n",
    "#Create an object:\n",
    "c_data = customer_data(customer_name,customer_id,customer_revenue,customer_segment)\n",
    "print('Our customers are: ',c_data.name)\n",
    "print('The first one on the list is ',c_data.name[0])\n",
    "\n",
    "#b) Revenue and customer id for Camilla\n",
    "ind = c_data.name.index('Camilla')\n",
    "print('Customer id for Camilla is', c_data.id[ind])\n",
    "print('Revenue for Camilla is', c_data.revenue[ind])\n",
    "\n",
    "#Or \n",
    "print('Customer id for Camilla is', c_data.id[c_data.name.index('Camilla')])\n",
    "print('Revenue for Camilla is', c_data.revenue[c_data.name.index('Camilla')])\n",
    "\n",
    "#c) Change revenue for Hans\n",
    "print('Old revenue for Hans was', c_data.revenue[c_data.name.index('Hans')])\n",
    "\n",
    "c_data.revenue[c_data.name.index('Hans')] = 450 #Change\n",
    "\n",
    "print('New revenue for Hans is', c_data.revenue[c_data.name.index('Hans')])\n",
    "\n",
    "#d EXTRA:\n",
    "#Try to change customer id:\n",
    "#c_data.id[c_data.name.index('Hans')] = 4937644 #Not working. \"'tuple' object does not support item assignment\""
   ]
  }
 ],
 "metadata": {
  "kernelspec": {
   "display_name": "Python 3",
   "language": "python",
   "name": "python3"
  },
  "language_info": {
   "codemirror_mode": {
    "name": "ipython",
    "version": 3
   },
   "file_extension": ".py",
   "mimetype": "text/x-python",
   "name": "python",
   "nbconvert_exporter": "python",
   "pygments_lexer": "ipython3",
   "version": "3.12.3"
  }
 },
 "nbformat": 4,
 "nbformat_minor": 5
}
