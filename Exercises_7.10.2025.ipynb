{
 "cells": [
  {
   "cell_type": "code",
   "execution_count": 4,
   "id": "1d53c40d",
   "metadata": {},
   "outputs": [],
   "source": [
    "#39. Read this House price data to Pandas DataFrame.  \n",
    "\n",
    "#Read the data\n",
    "import pandas as pd\n",
    "url = \"https://raw.githubusercontent.com/MainakRepositor/Datasets/refs/heads/master/house%20price.csv\"\n",
    "df = pd.read_csv(url)\n",
    "#df.head()"
   ]
  },
  {
   "cell_type": "code",
   "execution_count": 5,
   "id": "88816daa",
   "metadata": {},
   "outputs": [
    {
     "data": {
      "text/plain": [
       "4600"
      ]
     },
     "execution_count": 5,
     "metadata": {},
     "output_type": "execute_result"
    }
   ],
   "source": [
    "# #Create SQLite database and save the DataFrame there. \n",
    "import sqlite3\n",
    "\n",
    "#Create a connection to SQLite database (create a database)\n",
    "conn = sqlite3.connect('Housing.dp')\n",
    "\n",
    "#Save dataframe to SQL database (create a table) [csv-file, Pandas dataframe and SQL table follow the same logics]\n",
    "df.to_sql('USA_housing', conn, if_exists='replace',index = False)\n"
   ]
  },
  {
   "cell_type": "code",
   "execution_count": null,
   "id": "910995ad",
   "metadata": {},
   "outputs": [],
   "source": [
    "#Let's test that it worked by querying the entire data\n",
    "query = ''' SELECT\n",
    "            *\n",
    "            FROM USA_housing\n",
    "            ''' \n"
   ]
  },
  {
   "cell_type": "code",
   "execution_count": null,
   "id": "2cfc3ab3",
   "metadata": {},
   "outputs": [],
   "source": [
    "# Write a query which calculates the average price for each statezip. "
   ]
  }
 ],
 "metadata": {
  "kernelspec": {
   "display_name": "Python 3",
   "language": "python",
   "name": "python3"
  },
  "language_info": {
   "codemirror_mode": {
    "name": "ipython",
    "version": 3
   },
   "file_extension": ".py",
   "mimetype": "text/x-python",
   "name": "python",
   "nbconvert_exporter": "python",
   "pygments_lexer": "ipython3",
   "version": "3.12.3"
  }
 },
 "nbformat": 4,
 "nbformat_minor": 5
}
